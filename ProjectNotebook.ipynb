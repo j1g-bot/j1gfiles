{
 "cells": [
  {
   "cell_type": "code",
   "execution_count": 2,
   "metadata": {},
   "outputs": [],
   "source": [
    "import random\n",
    "import time\n",
    "import cmd"
   ]
  },
  {
   "cell_type": "code",
   "execution_count": 3,
   "metadata": {},
   "outputs": [],
   "source": [
    "class character:\n",
    "    def __init__(self):\n",
    "        self.name = ''\n",
    "        \n",
    "class enemy:\n",
    "    def __init__(self):\n",
    "        self.name = ''\n",
    "        \n",
    "enemy_list = ['Bat','Zombie','Goblin','Dragon']\n",
    "\n",
    "rng_list = [1,2,3,4,5,6,7,8,9]\n",
    "\n",
    "score = 0"
   ]
  },
  {
   "cell_type": "code",
   "execution_count": 4,
   "metadata": {},
   "outputs": [],
   "source": [
    "def player_choice():\n",
    "    choice = input('> ')\n",
    "    if choice == 'Attack':\n",
    "        chance = random.choice(rng_list)\n",
    "        if chance >= 5:\n",
    "            print(character.name + ' slays the ' + enemy.name + '!')\n",
    "            global score\n",
    "            score = score + 1\n",
    "            print('Score:')\n",
    "            print(score)\n",
    "            time.sleep(1)\n",
    "            print('Continue? Y/N')\n",
    "            cont()\n",
    "        else:\n",
    "            print(character.name + ' is slain by the ' + enemy.name + '!')\n",
    "            print('Score: 0')\n",
    "            score = 0\n",
    "            time.sleep(1)\n",
    "            print('Try Again? Y/N')\n",
    "            try_again()\n",
    "    elif choice == 'Flee':\n",
    "        chance = random.choice(rng_list)\n",
    "        if chance >= 3:\n",
    "            print(character.name + ' successfully flees from the ' + enemy.name + '!')\n",
    "            print('Continue? Y/N')\n",
    "            cont()\n",
    "        else:\n",
    "            print(character.name + ' is slain by the ' + enemy.name + '!')\n",
    "            print('Score: 0')\n",
    "            score = 0\n",
    "            time.sleep(1)\n",
    "            print('Try Again? Y/N')\n",
    "            try_again()\n",
    "    else:\n",
    "        battle()\n",
    "\n",
    "def character_start():\n",
    "    question1 = 'What is your name?'\n",
    "    print(question1)\n",
    "    character.name = input('>')\n",
    "    game_start()\n",
    "\n",
    "def game_start():\n",
    "    enemy_name = random.choice(enemy_list)\n",
    "    enemy.name = enemy_name\n",
    "    enemy1 = 'You are approached by...'\n",
    "    print(enemy1)\n",
    "    time.sleep(1)\n",
    "    print(enemy_name)\n",
    "    time.sleep(1)\n",
    "    battle()\n",
    "   \n",
    "def battle():\n",
    "    question3 = 'What will you do? Attack or Flee?'\n",
    "    print(question3)\n",
    "    player_choice()"
   ]
  },
  {
   "cell_type": "code",
   "execution_count": 5,
   "metadata": {},
   "outputs": [],
   "source": [
    "def try_again():\n",
    "    choice = input('> ')\n",
    "    if choice == 'Y':\n",
    "        game_start()\n",
    "    else:\n",
    "        print('Thanks for playing!')\n",
    "        \n",
    "def cont():\n",
    "    choice = input('> ')\n",
    "    if choice == 'Y':\n",
    "        game_start()\n",
    "    else:\n",
    "        print('Thanks for playing!')\n",
    "        print('Score:')\n",
    "        print(score)"
   ]
  },
  {
   "cell_type": "code",
   "execution_count": null,
   "metadata": {},
   "outputs": [
    {
     "name": "stdout",
     "output_type": "stream",
     "text": [
      "What is your name?\n"
     ]
    }
   ],
   "source": [
    "character_start()"
   ]
  },
  {
   "cell_type": "code",
   "execution_count": null,
   "metadata": {},
   "outputs": [],
   "source": []
  }
 ],
 "metadata": {
  "kernelspec": {
   "display_name": "Python 3",
   "language": "python",
   "name": "python3"
  },
  "language_info": {
   "codemirror_mode": {
    "name": "ipython",
    "version": 3
   },
   "file_extension": ".py",
   "mimetype": "text/x-python",
   "name": "python",
   "nbconvert_exporter": "python",
   "pygments_lexer": "ipython3",
   "version": "3.6.7"
  }
 },
 "nbformat": 4,
 "nbformat_minor": 2
}
